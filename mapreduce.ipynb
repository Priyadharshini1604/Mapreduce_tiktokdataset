{
  "nbformat": 4,
  "nbformat_minor": 0,
  "metadata": {
    "colab": {
      "provenance": [],
      "authorship_tag": "ABX9TyMTBVadCk/8DLf4JrVde8gd",
      "include_colab_link": true
    },
    "kernelspec": {
      "name": "python3",
      "display_name": "Python 3"
    },
    "language_info": {
      "name": "python"
    }
  },
  "cells": [
    {
      "cell_type": "markdown",
      "metadata": {
        "id": "view-in-github",
        "colab_type": "text"
      },
      "source": [
        "<a href=\"https://colab.research.google.com/github/Priyadharshini1604/Mapreduce_tiktokdataset/blob/main/mapreduce.ipynb\" target=\"_parent\"><img src=\"https://colab.research.google.com/assets/colab-badge.svg\" alt=\"Open In Colab\"/></a>"
      ]
    },
    {
      "cell_type": "code",
      "execution_count": null,
      "metadata": {
        "id": "duImQs787abg"
      },
      "outputs": [],
      "source": [
        "#install Kaggle\n",
        "!pip install -q kaggle"
      ]
    },
    {
      "cell_type": "code",
      "source": [
        "from google.colab import files\n",
        "files.upload()"
      ],
      "metadata": {
        "colab": {
          "base_uri": "https://localhost:8080/",
          "height": 90
        },
        "id": "fWxpKBeR8d6E",
        "outputId": "8a170af4-8a3c-42b4-e9ca-2a5df598362d"
      },
      "execution_count": null,
      "outputs": [
        {
          "output_type": "display_data",
          "data": {
            "text/plain": [
              "<IPython.core.display.HTML object>"
            ],
            "text/html": [
              "\n",
              "     <input type=\"file\" id=\"files-5c66001a-dbb5-42db-8d8f-f7e48d977503\" name=\"files[]\" multiple disabled\n",
              "        style=\"border:none\" />\n",
              "     <output id=\"result-5c66001a-dbb5-42db-8d8f-f7e48d977503\">\n",
              "      Upload widget is only available when the cell has been executed in the\n",
              "      current browser session. Please rerun this cell to enable.\n",
              "      </output>\n",
              "      <script>// Copyright 2017 Google LLC\n",
              "//\n",
              "// Licensed under the Apache License, Version 2.0 (the \"License\");\n",
              "// you may not use this file except in compliance with the License.\n",
              "// You may obtain a copy of the License at\n",
              "//\n",
              "//      http://www.apache.org/licenses/LICENSE-2.0\n",
              "//\n",
              "// Unless required by applicable law or agreed to in writing, software\n",
              "// distributed under the License is distributed on an \"AS IS\" BASIS,\n",
              "// WITHOUT WARRANTIES OR CONDITIONS OF ANY KIND, either express or implied.\n",
              "// See the License for the specific language governing permissions and\n",
              "// limitations under the License.\n",
              "\n",
              "/**\n",
              " * @fileoverview Helpers for google.colab Python module.\n",
              " */\n",
              "(function(scope) {\n",
              "function span(text, styleAttributes = {}) {\n",
              "  const element = document.createElement('span');\n",
              "  element.textContent = text;\n",
              "  for (const key of Object.keys(styleAttributes)) {\n",
              "    element.style[key] = styleAttributes[key];\n",
              "  }\n",
              "  return element;\n",
              "}\n",
              "\n",
              "// Max number of bytes which will be uploaded at a time.\n",
              "const MAX_PAYLOAD_SIZE = 100 * 1024;\n",
              "\n",
              "function _uploadFiles(inputId, outputId) {\n",
              "  const steps = uploadFilesStep(inputId, outputId);\n",
              "  const outputElement = document.getElementById(outputId);\n",
              "  // Cache steps on the outputElement to make it available for the next call\n",
              "  // to uploadFilesContinue from Python.\n",
              "  outputElement.steps = steps;\n",
              "\n",
              "  return _uploadFilesContinue(outputId);\n",
              "}\n",
              "\n",
              "// This is roughly an async generator (not supported in the browser yet),\n",
              "// where there are multiple asynchronous steps and the Python side is going\n",
              "// to poll for completion of each step.\n",
              "// This uses a Promise to block the python side on completion of each step,\n",
              "// then passes the result of the previous step as the input to the next step.\n",
              "function _uploadFilesContinue(outputId) {\n",
              "  const outputElement = document.getElementById(outputId);\n",
              "  const steps = outputElement.steps;\n",
              "\n",
              "  const next = steps.next(outputElement.lastPromiseValue);\n",
              "  return Promise.resolve(next.value.promise).then((value) => {\n",
              "    // Cache the last promise value to make it available to the next\n",
              "    // step of the generator.\n",
              "    outputElement.lastPromiseValue = value;\n",
              "    return next.value.response;\n",
              "  });\n",
              "}\n",
              "\n",
              "/**\n",
              " * Generator function which is called between each async step of the upload\n",
              " * process.\n",
              " * @param {string} inputId Element ID of the input file picker element.\n",
              " * @param {string} outputId Element ID of the output display.\n",
              " * @return {!Iterable<!Object>} Iterable of next steps.\n",
              " */\n",
              "function* uploadFilesStep(inputId, outputId) {\n",
              "  const inputElement = document.getElementById(inputId);\n",
              "  inputElement.disabled = false;\n",
              "\n",
              "  const outputElement = document.getElementById(outputId);\n",
              "  outputElement.innerHTML = '';\n",
              "\n",
              "  const pickedPromise = new Promise((resolve) => {\n",
              "    inputElement.addEventListener('change', (e) => {\n",
              "      resolve(e.target.files);\n",
              "    });\n",
              "  });\n",
              "\n",
              "  const cancel = document.createElement('button');\n",
              "  inputElement.parentElement.appendChild(cancel);\n",
              "  cancel.textContent = 'Cancel upload';\n",
              "  const cancelPromise = new Promise((resolve) => {\n",
              "    cancel.onclick = () => {\n",
              "      resolve(null);\n",
              "    };\n",
              "  });\n",
              "\n",
              "  // Wait for the user to pick the files.\n",
              "  const files = yield {\n",
              "    promise: Promise.race([pickedPromise, cancelPromise]),\n",
              "    response: {\n",
              "      action: 'starting',\n",
              "    }\n",
              "  };\n",
              "\n",
              "  cancel.remove();\n",
              "\n",
              "  // Disable the input element since further picks are not allowed.\n",
              "  inputElement.disabled = true;\n",
              "\n",
              "  if (!files) {\n",
              "    return {\n",
              "      response: {\n",
              "        action: 'complete',\n",
              "      }\n",
              "    };\n",
              "  }\n",
              "\n",
              "  for (const file of files) {\n",
              "    const li = document.createElement('li');\n",
              "    li.append(span(file.name, {fontWeight: 'bold'}));\n",
              "    li.append(span(\n",
              "        `(${file.type || 'n/a'}) - ${file.size} bytes, ` +\n",
              "        `last modified: ${\n",
              "            file.lastModifiedDate ? file.lastModifiedDate.toLocaleDateString() :\n",
              "                                    'n/a'} - `));\n",
              "    const percent = span('0% done');\n",
              "    li.appendChild(percent);\n",
              "\n",
              "    outputElement.appendChild(li);\n",
              "\n",
              "    const fileDataPromise = new Promise((resolve) => {\n",
              "      const reader = new FileReader();\n",
              "      reader.onload = (e) => {\n",
              "        resolve(e.target.result);\n",
              "      };\n",
              "      reader.readAsArrayBuffer(file);\n",
              "    });\n",
              "    // Wait for the data to be ready.\n",
              "    let fileData = yield {\n",
              "      promise: fileDataPromise,\n",
              "      response: {\n",
              "        action: 'continue',\n",
              "      }\n",
              "    };\n",
              "\n",
              "    // Use a chunked sending to avoid message size limits. See b/62115660.\n",
              "    let position = 0;\n",
              "    do {\n",
              "      const length = Math.min(fileData.byteLength - position, MAX_PAYLOAD_SIZE);\n",
              "      const chunk = new Uint8Array(fileData, position, length);\n",
              "      position += length;\n",
              "\n",
              "      const base64 = btoa(String.fromCharCode.apply(null, chunk));\n",
              "      yield {\n",
              "        response: {\n",
              "          action: 'append',\n",
              "          file: file.name,\n",
              "          data: base64,\n",
              "        },\n",
              "      };\n",
              "\n",
              "      let percentDone = fileData.byteLength === 0 ?\n",
              "          100 :\n",
              "          Math.round((position / fileData.byteLength) * 100);\n",
              "      percent.textContent = `${percentDone}% done`;\n",
              "\n",
              "    } while (position < fileData.byteLength);\n",
              "  }\n",
              "\n",
              "  // All done.\n",
              "  yield {\n",
              "    response: {\n",
              "      action: 'complete',\n",
              "    }\n",
              "  };\n",
              "}\n",
              "\n",
              "scope.google = scope.google || {};\n",
              "scope.google.colab = scope.google.colab || {};\n",
              "scope.google.colab._files = {\n",
              "  _uploadFiles,\n",
              "  _uploadFilesContinue,\n",
              "};\n",
              "})(self);\n",
              "</script> "
            ]
          },
          "metadata": {}
        },
        {
          "output_type": "stream",
          "name": "stdout",
          "text": [
            "Saving kaggle.json to kaggle.json\n"
          ]
        },
        {
          "output_type": "execute_result",
          "data": {
            "text/plain": [
              "{'kaggle.json': b'{\"username\":\"priyadharshinik2022\",\"key\":\"76f4832711cbe9a5afbd2de305d3087b\"}'}"
            ]
          },
          "metadata": {},
          "execution_count": 2
        }
      ]
    },
    {
      "cell_type": "code",
      "source": [
        "#create a kaggle folder\n",
        "! mkdir ~/.kaggle"
      ],
      "metadata": {
        "id": "kv_xuHX18hjK"
      },
      "execution_count": null,
      "outputs": []
    },
    {
      "cell_type": "code",
      "source": [
        "#copy the kaggle.json to folder created\n",
        "! cp kaggle.json ~/.kaggle/"
      ],
      "metadata": {
        "id": "YjH37EuI9Epc"
      },
      "execution_count": null,
      "outputs": []
    },
    {
      "cell_type": "code",
      "source": [
        "#permission for the json to act\n",
        "! chmod 600 ~/.kaggle/kaggle.json"
      ],
      "metadata": {
        "id": "5YhbirsI9UBO"
      },
      "execution_count": null,
      "outputs": []
    },
    {
      "cell_type": "code",
      "source": [
        "#to list all datasets in kaggle\n",
        "! kaggle datasets list"
      ],
      "metadata": {
        "colab": {
          "base_uri": "https://localhost:8080/"
        },
        "id": "np7sQy_W9eJq",
        "outputId": "a53fa5e0-2290-4158-85f9-b34f03deaad1"
      },
      "execution_count": null,
      "outputs": [
        {
          "output_type": "stream",
          "name": "stdout",
          "text": [
            "ref                                                       title                                       size  lastUpdated          downloadCount  voteCount  usabilityRating  \n",
            "--------------------------------------------------------  -----------------------------------------  -----  -------------------  -------------  ---------  ---------------  \n",
            "haseebindata/student-performance-predictions              Student Performance Predictions              9KB  2024-08-17 06:57:57           7857        165  0.9411765        \n",
            "stefanydeoliveira/summer-olympics-medals-1896-2024        Summer Olympics Medals (1896-2024)           4MB  2024-08-29 23:52:10           1504         34  1.0              \n",
            "lainguyn123/student-performance-factors                   Student Performance Factors                 94KB  2024-09-02 10:53:57           1717         42  1.0              \n",
            "krupalpatel07/pepsico-daily-data                          PEPSICO Daily Data                         427KB  2024-08-21 08:53:26           1653         27  1.0              \n",
            "berkayalan/paris-2024-olympics-medals                     Paris 2024 Olympics Medals                   1KB  2024-08-14 11:02:45           6187        108  1.0              \n",
            "uom190346a/ai-powered-job-market-insights                 AI-Powered Job Market Insights              10KB  2024-08-26 05:55:43           2579         53  1.0              \n",
            "balajivaraprasad/crimes-against-women-in-india-2001-2021  Crimes Against Women in India (2001-2021)   13KB  2024-08-15 16:47:18           3729         80  1.0              \n",
            "waqi786/ai-generated-art-trends                           🎨 AI-Generated Art Trends Dataset 🎨        226KB  2024-09-03 12:03:23            370         25  1.0              \n",
            "lainguyn123/australia-car-market-data                     Australia Car Market Data                  601KB  2024-09-03 01:30:01            636         27  1.0              \n",
            "uom190346a/sleep-and-health-metrics                       Sleep and Health Metrics                    73KB  2024-08-31 02:39:09           1449         33  1.0              \n",
            "abdullahashfaqvirk/student-mental-health-survey           Student Mental Health Survey                 2KB  2024-08-23 15:38:57           3140         51  0.88235295       \n",
            "abdullah0a/human-age-prediction-synthetic-dataset         Human Age Prediction Synthetic Dataset     739KB  2024-09-04 07:25:39            969         22  1.0              \n",
            "abdullah0a/social-media-sentiment-analysis-dataset        Social Media Sentiment Analysis            120KB  2024-09-02 17:30:59            536         21  1.0              \n",
            "karunyaronith/time-series-financial-portfolio-data        Time series Stock Price dataset              4KB  2024-09-03 05:31:12            804         21  1.0              \n",
            "jeannicolasduval/2024-fortune-1000-companies              2024 Fortune 1000 Companies                301KB  2024-08-14 21:25:41           1540         28  1.0              \n",
            "myrios/cost-of-living-index-by-country-by-number-2024     Cost of Living Index by Country              3KB  2024-07-19 06:25:42           9921        158  1.0              \n",
            "cvergnolle/gold-price-and-relevant-metrics                Gold Price & Relevant Metrics               36KB  2024-08-13 22:08:02           1820         25  1.0              \n",
            "willianoliveiragibin/olympics-2024                        Olympics 2024                              352KB  2024-08-15 22:29:31           2555         41  1.0              \n",
            "muhammadehsan02/alzheimers-disease-patient-data           Alzheimer's Disease Patient Data           268KB  2024-08-24 17:49:41            820         31  1.0              \n",
            "souradippal/student-performance-prediction                Student Performance Prediction             381KB  2024-08-16 15:59:38           2789         54  1.0              \n"
          ]
        }
      ]
    },
    {
      "cell_type": "code",
      "source": [
        "pip install pandas\n"
      ],
      "metadata": {
        "colab": {
          "base_uri": "https://localhost:8080/"
        },
        "id": "ypEcO8VLGSnf",
        "outputId": "39d362a2-c975-4240-fd62-38dc47286255"
      },
      "execution_count": null,
      "outputs": [
        {
          "output_type": "stream",
          "name": "stdout",
          "text": [
            "Requirement already satisfied: pandas in /usr/local/lib/python3.10/dist-packages (2.1.4)\n",
            "Requirement already satisfied: numpy<2,>=1.22.4 in /usr/local/lib/python3.10/dist-packages (from pandas) (1.26.4)\n",
            "Requirement already satisfied: python-dateutil>=2.8.2 in /usr/local/lib/python3.10/dist-packages (from pandas) (2.8.2)\n",
            "Requirement already satisfied: pytz>=2020.1 in /usr/local/lib/python3.10/dist-packages (from pandas) (2024.1)\n",
            "Requirement already satisfied: tzdata>=2022.1 in /usr/local/lib/python3.10/dist-packages (from pandas) (2024.1)\n",
            "Requirement already satisfied: six>=1.5 in /usr/local/lib/python3.10/dist-packages (from python-dateutil>=2.8.2->pandas) (1.16.0)\n"
          ]
        }
      ]
    },
    {
      "cell_type": "code",
      "source": [
        "!unzip tiktok_dataset.csv.zip"
      ],
      "metadata": {
        "colab": {
          "base_uri": "https://localhost:8080/"
        },
        "id": "GOMtP7VYLoJR",
        "outputId": "7f02120f-5aee-4f11-f0bb-43720f7ce29d"
      },
      "execution_count": null,
      "outputs": [
        {
          "output_type": "stream",
          "name": "stdout",
          "text": [
            "Archive:  tiktok_dataset.csv.zip\n",
            "  inflating: tiktok_dataset.csv      \n"
          ]
        }
      ]
    },
    {
      "cell_type": "code",
      "source": [
        "import pandas as pd\n",
        "df=pd.read_csv(r\"/content/tiktok_dataset.csv\")"
      ],
      "metadata": {
        "id": "n_h6mOIxL7fq"
      },
      "execution_count": null,
      "outputs": []
    },
    {
      "cell_type": "code",
      "source": [
        "import multiprocessing\n",
        "import pandas as pd\n",
        "\n",
        "# Define the map function\n",
        "def map_func(record):\n",
        "    # Define criteria\n",
        "    views_count = 200000\n",
        "    likes_count = 100000\n",
        "    shares_count = 80000\n",
        "    comments_count = 1000\n",
        "\n",
        "    # Initialize counts\n",
        "    video_count = 0\n",
        "    like_count = 0\n",
        "    share_count = 0\n",
        "    comment_count = 0\n",
        "    total_valid = 0\n",
        "\n",
        "    # Check each criterion\n",
        "    if record['video_view_count'] > views_count:\n",
        "        video_count += 1\n",
        "    if record['video_like_count'] > likes_count:\n",
        "        like_count += 1\n",
        "    if record['video_share_count'] > shares_count:\n",
        "        share_count += 1\n",
        "    if record['video_comment_count'] > comments_count:\n",
        "        comment_count += 1\n",
        "\n",
        "    # Check if all criteria are met\n",
        "    if (record['video_view_count'] > views_count and\n",
        "        record['video_like_count'] > likes_count and\n",
        "        record['video_share_count'] > shares_count and\n",
        "        record['video_comment_count'] > comments_count):\n",
        "        total_valid += 1\n",
        "\n",
        "    return (video_count, like_count, share_count, comment_count, total_valid)\n",
        "\n",
        "# Define the reduce function\n",
        "def reduce_func(pairs):\n",
        "    # Initialize counts\n",
        "    total_video_count = 0\n",
        "    total_like_count = 0\n",
        "    total_share_count = 0\n",
        "    total_comment_count = 0\n",
        "    total_valid_count = 0\n",
        "\n",
        "    # Sum up the values\n",
        "    for pair in pairs:\n",
        "        total_video_count += pair[0]\n",
        "        total_like_count += pair[1]\n",
        "        total_share_count += pair[2]\n",
        "        total_comment_count += pair[3]\n",
        "        total_valid_count += pair[4]\n",
        "\n",
        "    return (total_video_count, total_like_count, total_share_count, total_comment_count, total_valid_count)\n",
        "\n",
        "# Main function to run the MapReduce job\n",
        "if __name__ == \"__main__\":\n",
        "    # Load the dataset\n",
        "    df = pd.read_csv('/content/tiktok_dataset.csv')\n",
        "\n",
        "    # Set up a multiprocessing pool for the Map phase\n",
        "    with multiprocessing.Pool() as pool:\n",
        "        # Apply map_function to each record in parallel\n",
        "        data_map = pool.map(map_func, df.to_dict(orient='records'))\n",
        "\n",
        "    # Perform the Reduce phase to aggregate counts\n",
        "    result = reduce_func(data_map)\n",
        "\n",
        "    # Print the final counts\n",
        "    print(f\"Number of videos for view criteria: {result[0]}\")\n",
        "    print(f\"Number of videos for like criteria: {result[1]}\")\n",
        "    print(f\"Number of videos for share criteria: {result[2]}\")\n",
        "    print(f\"Number of videos for comment criteria: {result[3]}\")\n",
        "    print(f\"Total number of videos meets all criteria: {result[4]}\")\n"
      ],
      "metadata": {
        "colab": {
          "base_uri": "https://localhost:8080/"
        },
        "id": "147Z3aFRQZto",
        "outputId": "3d2d1afa-da7d-4f9d-f774-404dd9d55f9f"
      },
      "execution_count": null,
      "outputs": [
        {
          "output_type": "stream",
          "name": "stdout",
          "text": [
            "Number of videos for view criteria: 7647\n",
            "Number of videos for like criteria: 5401\n",
            "Number of videos for share criteria: 1146\n",
            "Number of videos for comment criteria: 2132\n",
            "Total number of videos meets all criteria: 613\n"
          ]
        }
      ]
    }
  ]
}